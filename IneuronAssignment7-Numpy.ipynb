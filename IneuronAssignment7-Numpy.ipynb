{
 "cells": [
  {
   "cell_type": "markdown",
   "metadata": {},
   "source": [
    "# Author - Srikant Sahoo"
   ]
  },
  {
   "cell_type": "markdown",
   "metadata": {},
   "source": [
    "Python Assignment Numpy"
   ]
  },
  {
   "cell_type": "markdown",
   "metadata": {},
   "source": [
    "1.\n",
    "Write a function so that the columns of the output matrix are powers of the input vector.\n",
    "The order of the powers is determined by the increasing boolean argument. Specifically, when\n",
    "increasing is False, the i-th output column is the input vector raised element-wise to the power\n",
    "of N - i - 1.\n",
    "\n",
    "HINT: Such a matrix with a geometric progression in each row is named for AlexandreTheophile Vandermonde."
   ]
  },
  {
   "cell_type": "code",
   "execution_count": 146,
   "metadata": {},
   "outputs": [],
   "source": [
    "import numpy as np"
   ]
  },
  {
   "cell_type": "code",
   "execution_count": 156,
   "metadata": {},
   "outputs": [],
   "source": [
    "def customFunction(vector,N):\n",
    "    x=np.array(vector)\n",
    "    board = []    \n",
    "    for i in range(len(x)): # create a list with nested lists\n",
    "        outputlist=[]\n",
    "        y=x[0:N]\n",
    "        for value1 in y:\n",
    "            outputlist.append(x[i]**(value1-1))\n",
    "        board.append(outputlist)\n",
    "    return np.array(board)"
   ]
  },
  {
   "cell_type": "code",
   "execution_count": 157,
   "metadata": {},
   "outputs": [
    {
     "data": {
      "text/plain": [
       "array([[ 1,  1,  1],\n",
       "       [ 1,  2,  4],\n",
       "       [ 1,  3,  9],\n",
       "       [ 1,  4, 16]])"
      ]
     },
     "execution_count": 157,
     "metadata": {},
     "output_type": "execute_result"
    }
   ],
   "source": [
    "customFunction([1,2,3,4],3)"
   ]
  },
  {
   "cell_type": "markdown",
   "metadata": {},
   "source": [
    "Above is my Solution and available Function already is vander in numpy."
   ]
  },
  {
   "cell_type": "code",
   "execution_count": 159,
   "metadata": {},
   "outputs": [
    {
     "data": {
      "text/plain": [
       "array([[ 1,  1,  1],\n",
       "       [ 4,  2,  1],\n",
       "       [ 9,  3,  1],\n",
       "       [16,  4,  1]])"
      ]
     },
     "execution_count": 159,
     "metadata": {},
     "output_type": "execute_result"
    }
   ],
   "source": [
    "import numpy as np\n",
    "np.vander(np.array([1,2,3,4]),3)"
   ]
  },
  {
   "cell_type": "markdown",
   "metadata": {},
   "source": [
    "2.\n",
    "\n",
    "Given a sequence of n values x1, x2, ..., xn and a window size k>0, the k-th moving average of\n",
    "the given sequence is defined as follows:\n",
    "The moving average sequence has n-k+1 elements as shown below.\n",
    "The moving averages with k=4 of a ten-value sequence (n=10) is shown below\n",
    "i 1 2 3 4 5 6 7 8 9 10\n",
    "===== == == == == == == == == == ==\n",
    "Input 10 20 30 40 50 60 70 80 90 100\n",
    "y1 25 = (10+20+30+40)/4\n",
    "y2 35 = (20+30+40+50)/4\n",
    "y3 45 = (30+40+50+60)/4\n",
    "y4 55 = (40+50+60+70)/4\n",
    "y5 65 = (50+60+70+80)/4\n",
    "y6 75 = (60+70+80+90)/4\n",
    "y7 85 = (70+80+90+100)/4\n",
    "Thus, the moving average sequence has n-k+1=10-4+1=7 values."
   ]
  },
  {
   "cell_type": "code",
   "execution_count": 8,
   "metadata": {},
   "outputs": [
    {
     "name": "stdout",
     "output_type": "stream",
     "text": [
      "moving average sequence has 11 combinations\n"
     ]
    }
   ],
   "source": [
    "mylist=[10,20,30,40,50,60,70,80,90,100,123,2323,45,6,7,1]\n",
    "k=6\n",
    "# Now to find the Moving average sequence\n",
    "sequence=[]\n",
    "b=0\n",
    "while b != len(mylist):\n",
    "    if len(mylist[b:b+k]) == k:\n",
    "        #print(mylist[b:b+k])\n",
    "        sequence.append(sum(mylist[b:b+k])/k)\n",
    "    b=b+1\n",
    "print('moving average sequence has {0} combinations'.format(len(sequence)))\n"
   ]
  },
  {
   "cell_type": "code",
   "execution_count": null,
   "metadata": {},
   "outputs": [],
   "source": []
  }
 ],
 "metadata": {
  "kernelspec": {
   "display_name": "Python 3",
   "language": "python",
   "name": "python3"
  },
  "language_info": {
   "codemirror_mode": {
    "name": "ipython",
    "version": 3
   },
   "file_extension": ".py",
   "mimetype": "text/x-python",
   "name": "python",
   "nbconvert_exporter": "python",
   "pygments_lexer": "ipython3",
   "version": "3.7.3"
  }
 },
 "nbformat": 4,
 "nbformat_minor": 2
}
